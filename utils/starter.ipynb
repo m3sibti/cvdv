{
 "cells": [
  {
   "cell_type": "code",
   "execution_count": null,
   "id": "9507e810-034f-435b-a842-f9307733f6a8",
   "metadata": {},
   "outputs": [],
   "source": [
    "import pandas as pd\n",
    "import numpy as np\n",
    "import matplotlib.pyplot as plt\n",
    "import os"
   ]
  },
  {
   "cell_type": "code",
   "execution_count": null,
   "id": "8c2a404f-f072-4944-866e-b261604cfc6c",
   "metadata": {
    "tags": []
   },
   "outputs": [],
   "source": [
    "print(pd.__version__)\n",
    "print(np.__version__)\n",
    "plt.imshow(np.zeros(shape=(28, 28)), cmap='gray')"
   ]
  },
  {
   "cell_type": "markdown",
   "id": "a85d2d50-eab0-408e-9712-e503a0fa2140",
   "metadata": {},
   "source": [
    "Columns:\n",
    "\n",
    "image_name image_size class cx cy bw bh"
   ]
  },
  {
   "cell_type": "code",
   "execution_count": null,
   "id": "f5f3a06e-4a22-47bc-b11d-7fdaa749d2a1",
   "metadata": {},
   "outputs": [],
   "source": [
<<<<<<< HEAD
    "HOME_PATH = './dataset/1_7/train'\n",
=======
    "HOME_PATH = '../dataset/ts'\n",
>>>>>>> c72ce62... VERBOSE added for feedback
    "IMAGE_SIZE = 544"
   ]
  },
  {
   "cell_type": "code",
   "execution_count": null,
   "id": "158bbf0b-5a9c-4d1e-93eb-c996bdc8c0d6",
   "metadata": {},
   "outputs": [],
   "source": [
    "files_list = os.listdir(HOME_PATH)\n",
    "files_list.sort()\n",
    "f'Total Image Files {int(len(files_list) / 2)}'"
   ]
  },
  {
   "cell_type": "code",
   "execution_count": null,
   "id": "7076f5ed-5c4d-4846-81ed-85fc4a8a7e2e",
   "metadata": {},
   "outputs": [],
   "source": [
    "total_list = []\n",
<<<<<<< HEAD
=======
    "\n",
    "class_file = os.path.join(HOME_PATH, 'classes.txt')\n",
    "with open(class_file) as fc:\n",
    "    class_list = fc.readlines()\n",
    "    \n",
>>>>>>> c72ce62... VERBOSE added for feedback
    "for file_name in files_list:\n",
    "    if file_name.endswith('.txt') and not file_name.startswith('class'):\n",
    "        file_path = os.path.join(HOME_PATH, file_name)\n",
    "        with open(file_path) as fp:\n",
    "            # print(file_name)\n",
    "            file_data = fp.readlines()\n",
    "            for data_list in file_data:\n",
    "                data_item = data_list.split(' ')\n",
    "                total_list.append([\n",
    "                    file_path,\n",
    "                    IMAGE_SIZE,\n",
    "                    int(data_item[0]),\n",
    "                    float(data_item[1]),\n",
    "                    float(data_item[2]),\n",
    "                    float(data_item[3]),\n",
    "                    float(data_item[4])\n",
    "                ])\n",
    "df = pd.DataFrame(data=total_list, columns=['img_path', 'img_size', 'class_idx', 'cx', 'cy', 'bw', 'bh'])"
   ]
  },
  {
   "cell_type": "code",
   "execution_count": null,
   "id": "e78125dc-2e3f-43ac-88ae-a63e40da3723",
   "metadata": {},
<<<<<<< HEAD
   "outputs": [],
   "source": [
    "df"
=======
   "outputs": [],
   "source": [
    "print(df.shape)\n",
    "df.head()"
   ]
  },
  {
   "cell_type": "code",
   "execution_count": null,
   "id": "e14039a7-d712-4502-9d48-938640c15565",
   "metadata": {},
   "outputs": [],
   "source": [
    "df.groupby(['class_name']).mean()"
   ]
  },
  {
   "cell_type": "code",
   "execution_count": null,
   "id": "d0556970-84ab-4d7c-950e-8182060765a6",
   "metadata": {},
   "outputs": [],
   "source": [
    "print(df['class_name'].unique())\n",
    "df"
   ]
  },
  {
   "cell_type": "code",
   "execution_count": null,
   "id": "dd707f3e-6efb-4955-9041-f9cce17fe12d",
   "metadata": {},
   "outputs": [],
   "source": [
    "class_distribution = df.groupby(['class_name']).count()['img_size']\n",
    "class_distribution"
   ]
  },
  {
   "cell_type": "code",
   "execution_count": null,
   "id": "348528bc-c999-4cef-86db-abf1137c569e",
   "metadata": {},
   "outputs": [],
   "source": [
    "# Pie Chart\n",
    "plt.pie(class_distribution,\n",
    "        labels=[f'{k}: {v}' for k, v in class_distribution.items()]\n",
    "       ,autopct='%1.1f%%')\n",
    "plt.legend(title='Class Distribution')\n",
    "# plt.savefig('class_distribution.png')\n",
    "plt.show()"
   ]
  },
  {
   "cell_type": "code",
   "execution_count": null,
   "id": "a0f998a1-04b9-45c0-9fdb-a8b7aa0135e8",
   "metadata": {},
   "outputs": [],
   "source": [
    "# Mean BB Pixel \n",
    "df.groupby(['class_name']).mean()['obj_px'].plot(kind='barh')\n",
    "plt.ylabel('pixel size')\n",
    "plt.title('Mean Pixel Size BB')\n",
    "plt.legend()\n",
    "# plt.savefig('mean_bbpixel_size.png')\n",
    "plt.show()"
   ]
  },
  {
   "cell_type": "code",
   "execution_count": null,
   "id": "801d7481-f90d-4f92-8978-ebbd542cbc10",
   "metadata": {},
   "outputs": [],
   "source": [
    "class_group = df.groupby(['class_name'])"
   ]
  },
  {
   "cell_type": "code",
   "execution_count": null,
   "id": "5d645717-e652-4176-ba1a-f0266d9d1172",
   "metadata": {},
   "outputs": [],
   "source": [
    "for class_name, class_df in class_group:\n",
    "    class_df['obj_px'].plot(kind='hist', bins=5, rwidth=0.85)\n",
    "    plt.ylim(ymax=df.groupby(['class_name']).count().max()[0])\n",
    "    plt.xlabel('BB Size in pixels')\n",
    "    plt.title(f\"Class: '{class_name}' Pixel Variation\")\n",
    "    #plt.savefig(f'bb_px_dist_{class_name}.png')\n",
    "    plt.show()"
>>>>>>> c72ce62... VERBOSE added for feedback
   ]
  },
  {
   "cell_type": "code",
   "execution_count": null,
<<<<<<< HEAD
   "id": "e14039a7-d712-4502-9d48-938640c15565",
=======
   "id": "d421c1d0-4658-4afe-ab02-4dbefbf204d5",
   "metadata": {},
   "outputs": [],
   "source": []
  },
  {
   "cell_type": "code",
   "execution_count": null,
   "id": "996d27dd-69de-431e-a446-7c4799d42d60",
   "metadata": {},
   "outputs": [],
   "source": []
  },
  {
   "cell_type": "code",
   "execution_count": null,
   "id": "82882803-620d-4fd2-b4ba-6f27383965fd",
   "metadata": {},
   "outputs": [],
   "source": []
  },
  {
   "cell_type": "code",
   "execution_count": null,
   "id": "8968974c-74d3-46c9-a0e9-70bc52662b9b",
   "metadata": {},
   "outputs": [],
   "source": []
  },
  {
   "cell_type": "code",
   "execution_count": null,
   "id": "8a43c966-52bd-4d6e-bc07-f3ab1880d0c0",
   "metadata": {},
   "outputs": [],
   "source": []
  },
  {
   "cell_type": "code",
   "execution_count": null,
   "id": "79b97ee1-48f9-4425-8cd9-e01de874299e",
   "metadata": {},
   "outputs": [],
   "source": []
  },
  {
   "cell_type": "markdown",
   "id": "255195d4-da64-4c20-836a-a0d3577cc966",
   "metadata": {},
   "source": [
    "# Practice Block"
   ]
  },
  {
   "cell_type": "code",
   "execution_count": null,
   "id": "ea22070c-186d-4a96-b93c-d996dd8ee02e",
   "metadata": {},
   "outputs": [],
   "source": [
    "from PIL import Image"
   ]
  },
  {
   "cell_type": "code",
   "execution_count": null,
   "id": "36aeda83-72f5-4680-bb74-2d31b56826ca",
>>>>>>> c72ce62... VERBOSE added for feedback
   "metadata": {},
   "outputs": [],
   "source": [
    "df.groupby(['class_idx']).mean()"
   ]
  },
  {
   "cell_type": "code",
   "execution_count": null,
   "id": "ea22070c-186d-4a96-b93c-d996dd8ee02e",
   "metadata": {},
   "outputs": [],
   "source": [
    "\n"
   ]
  },
  {
   "cell_type": "code",
   "execution_count": null,
   "id": "47c218ff-92de-4a21-a4ee-4ee942554831",
   "metadata": {},
   "outputs": [],
   "source": [
    "from datetime import datetime\n",
    "datetime.now().strftime(\"%m_%d_%Y-%H_%M_%S\")"
   ]
  },
  {
   "cell_type": "code",
   "execution_count": null,
   "id": "bc1b2054-447d-4680-9acb-2b07993746c2",
   "metadata": {},
   "outputs": [],
   "source": []
  }
 ],
 "metadata": {
  "kernelspec": {
   "display_name": "Python 3 (ipykernel)",
   "language": "python",
   "name": "python3"
  },
  "language_info": {
   "codemirror_mode": {
    "name": "ipython",
    "version": 3
   },
   "file_extension": ".py",
   "mimetype": "text/x-python",
   "name": "python",
   "nbconvert_exporter": "python",
   "pygments_lexer": "ipython3",
   "version": "3.8.10"
  }
 },
 "nbformat": 4,
 "nbformat_minor": 5
}
