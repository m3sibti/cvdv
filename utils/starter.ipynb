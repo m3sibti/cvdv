{
 "cells": [
  {
   "cell_type": "code",
   "execution_count": null,
   "id": "9507e810-034f-435b-a842-f9307733f6a8",
   "metadata": {},
   "outputs": [],
   "source": [
    "import pandas as pd\n",
    "import numpy as np\n",
    "import matplotlib.pyplot as plt\n",
    "import os\n",
    "from PIL import Image\n",
    "from tqdm import tqdm"
   ]
  },
  {
   "cell_type": "code",
   "execution_count": null,
   "id": "8c2a404f-f072-4944-866e-b261604cfc6c",
   "metadata": {
    "tags": []
   },
   "outputs": [],
   "source": [
    "print(pd.__version__)\n",
    "print(np.__version__)\n",
    "# plt.imshow(np.zeros(shape=(28, 28)), cmap='gray')"
   ]
  },
  {
   "cell_type": "markdown",
   "id": "a85d2d50-eab0-408e-9712-e503a0fa2140",
   "metadata": {},
   "source": [
    "Columns:\n",
    "\n",
    "image_name image_size class cx cy bw bh"
   ]
  },
  {
   "cell_type": "code",
   "execution_count": null,
   "id": "f5f3a06e-4a22-47bc-b11d-7fdaa749d2a1",
   "metadata": {},
   "outputs": [],
   "source": [
<<<<<<< HEAD
<<<<<<< HEAD
    "HOME_PATH = './dataset/1_7/train'\n",
=======
    "HOME_PATH = '../dataset/ts'\n",
>>>>>>> c72ce62... VERBOSE added for feedback
=======
    "HOME_PATH = '../dataset/1_7/train'\n",
>>>>>>> cbc5258... pixel mode tested
    "IMAGE_SIZE = 544"
   ]
  },
  {
   "cell_type": "code",
   "execution_count": null,
   "id": "158bbf0b-5a9c-4d1e-93eb-c996bdc8c0d6",
   "metadata": {},
   "outputs": [],
   "source": [
    "files_list = os.listdir(HOME_PATH)\n",
    "files_list.sort()\n",
    "f'Total Image Files {int(len(files_list) / 2)}'"
   ]
  },
  {
   "cell_type": "code",
   "execution_count": null,
   "id": "39c203c5-000c-4fb2-ac03-4f0bb643bca3",
   "metadata": {},
   "outputs": [],
   "source": [
    "def get_image_path(fname):\n",
    "    fname_split = file_name.split('.')\n",
    "    img_name = '.'.join(fname_split[:-1])\n",
    "    # print(img_name)\n",
    "    # if len(fname_split) > 2:\n",
    "        # print(fname_split, img_name)\n",
    "    ext = fname_split[-1]\n",
    "    for fext in ['.jpg', '.png']:\n",
    "        img_org_name = img_name + fext\n",
    "        img_path = os.path.join(HOME_PATH, img_org_name)\n",
    "        if os.path.isfile(img_path):\n",
    "            return img_path"
   ]
  },
  {
   "cell_type": "code",
   "execution_count": null,
   "id": "a2c2e6d1-26e3-4261-95cb-6be040a82692",
   "metadata": {},
   "outputs": [],
   "source": [
    "def get_mode(X):\n",
    "    vals,counts = np.unique(X, return_counts=True)\n",
    "    index = np.argmax(counts)\n",
    "    return vals[index]"
   ]
  },
  {
   "cell_type": "code",
   "execution_count": null,
   "id": "f32a9f3d-9043-4b3d-ae20-c6d186c97a9f",
   "metadata": {},
   "outputs": [],
   "source": [
    "def get_pixel_info(im_path):\n",
    "    img = Image.open(im_path)\n",
    "    np_img = np.asarray(img)\n",
    "    raf = np_img[:, :, 0].flatten()\n",
    "    gaf = np_img[:, :, 1].flatten()\n",
    "    baf = np_img[:, :, 2].flatten()\n",
    "    \n",
    "    # for mean calculation\n",
    "    #raf_mean = raf.mean()\n",
    "    #gaf_mean = gaf.mean()\n",
    "    #baf_mean = baf.mean()\n",
    "    \n",
    "    # for mode calculation\n",
    "    raf_mode = get_mode(raf)\n",
    "    gaf_mode = get_mode(gaf)\n",
    "    baf_mode = get_mode(baf)\n",
    "    \n",
    "    return raf_mode, gaf_mode, baf_mode"
   ]
  },
  {
   "cell_type": "code",
   "execution_count": null,
   "id": "7076f5ed-5c4d-4846-81ed-85fc4a8a7e2e",
   "metadata": {},
   "outputs": [],
   "source": [
    "total_list = []\n",
<<<<<<< HEAD
=======
    "\n",
    "class_file = os.path.join(HOME_PATH, 'classes.txt')\n",
    "with open(class_file) as fc:\n",
    "    class_list = fc.readlines()\n",
    "    \n",
<<<<<<< HEAD
>>>>>>> c72ce62... VERBOSE added for feedback
    "for file_name in files_list:\n",
=======
    "for file_name in tqdm(files_list):\n",
>>>>>>> cbc5258... pixel mode tested
    "    if file_name.endswith('.txt') and not file_name.startswith('class'):\n",
    "        file_path = os.path.join(HOME_PATH, file_name)\n",
    "        \n",
    "        img_path = get_image_path(file_name)\n",
    "        r_mode, g_mode, b_mode = get_pixel_info(img_path)\n",
    "        \n",
    "        with open(file_path) as fp:\n",
    "            # print(file_name)\n",
    "            file_data = fp.readlines()\n",
    "            for data_list in file_data:\n",
    "                data_item = data_list.split(' ')\n",
    "                total_list.append([\n",
    "                    file_path,\n",
    "                    IMAGE_SIZE,\n",
    "                    int(data_item[0]),\n",
    "                    float(data_item[1]),\n",
    "                    float(data_item[2]),\n",
    "                    float(data_item[3]),\n",
    "                    float(data_item[4]),\n",
    "                    r_mode, g_mode, b_mode\n",
    "                ])\n",
<<<<<<< HEAD
    "df = pd.DataFrame(data=total_list, columns=['img_path', 'img_size', 'class_idx', 'cx', 'cy', 'bw', 'bh'])"
=======
    "df = pd.DataFrame(data=total_list,\n",
    "                  columns=['img_path',\n",
    "                           'img_size',\n",
    "                           'img_width',\n",
    "                           'img_height',\n",
    "                           'class_name',\n",
    "                           'class_idx', \n",
    "                           'ncx',\n",
    "                           'ncy',\n",
    "                           'nbw',\n",
    "                           'nbh',\n",
    "                          'r_mode',\n",
    "                          'g_mode',\n",
    "                          'b_mode'])\n",
    "\n",
    "df['cx'], df['cy'], df['bw'], df['bh'] = df.ncx * IMAGE_SIZE, df.ncy * IMAGE_SIZE, df.nbw * IMAGE_SIZE, df.nbh * IMAGE_SIZE\n",
    "df['obj_px'] = df['bw'] * df['bh']\n",
    "df['obj_img_ratio'] = df['obj_px'] / df['img_size']"
>>>>>>> cbc5258... pixel mode tested
   ]
  },
  {
   "cell_type": "code",
   "execution_count": null,
   "id": "e78125dc-2e3f-43ac-88ae-a63e40da3723",
   "metadata": {},
<<<<<<< HEAD
   "outputs": [],
   "source": [
    "df"
=======
   "outputs": [],
   "source": [
    "print(df.shape)\n",
    "df.head()"
   ]
  },
  {
   "cell_type": "code",
   "execution_count": null,
   "id": "e14039a7-d712-4502-9d48-938640c15565",
   "metadata": {},
   "outputs": [],
   "source": [
    "df.groupby(['class_name']).mean()"
   ]
  },
  {
   "cell_type": "code",
   "execution_count": null,
   "id": "d0556970-84ab-4d7c-950e-8182060765a6",
   "metadata": {},
   "outputs": [],
   "source": [
    "print(df['class_name'].unique())\n",
    "df"
   ]
  },
  {
   "cell_type": "code",
   "execution_count": null,
   "id": "dd707f3e-6efb-4955-9041-f9cce17fe12d",
   "metadata": {},
   "outputs": [],
   "source": [
    "class_distribution = df.groupby(['class_name']).count()['img_size']\n",
    "class_distribution"
   ]
  },
  {
   "cell_type": "code",
   "execution_count": null,
   "id": "348528bc-c999-4cef-86db-abf1137c569e",
   "metadata": {
    "tags": []
   },
   "outputs": [],
   "source": [
    "# Pie Chart\n",
    "plt.pie(class_distribution,\n",
    "        labels=[f'{k}: {v}' for k, v in class_distribution.items()]\n",
    "       ,autopct='%1.1f%%')\n",
    "plt.legend(title='Class Distribution')\n",
    "# plt.savefig('class_distribution.png')\n",
    "plt.show()"
   ]
  },
  {
   "cell_type": "code",
   "execution_count": null,
   "id": "a0f998a1-04b9-45c0-9fdb-a8b7aa0135e8",
   "metadata": {
    "tags": []
   },
   "outputs": [],
   "source": [
    "# Mean BB Pixel \n",
    "df.groupby(['class_name']).mean()['obj_px'].plot(kind='barh')\n",
    "plt.ylabel('pixel size')\n",
    "plt.title('Mean Pixel Size BB')\n",
    "plt.legend()\n",
    "# plt.savefig('mean_bbpixel_size.png')\n",
    "plt.show()"
   ]
  },
  {
   "cell_type": "code",
   "execution_count": null,
   "id": "801d7481-f90d-4f92-8978-ebbd542cbc10",
   "metadata": {},
   "outputs": [],
   "source": [
    "class_group = df.groupby(['class_name'])"
   ]
  },
  {
   "cell_type": "code",
   "execution_count": null,
   "id": "5d645717-e652-4176-ba1a-f0266d9d1172",
   "metadata": {
    "tags": []
   },
   "outputs": [],
   "source": [
    "for class_name, class_df in class_group:\n",
    "    class_df['obj_px'].plot(kind='hist', bins=5, rwidth=0.85)\n",
    "    plt.ylim(ymax=df.groupby(['class_name']).count().max()[0])\n",
    "    plt.xlabel('BB Size in pixels')\n",
    "    plt.title(f\"Class: '{class_name}' Pixel Variation\")\n",
    "    #plt.savefig(f'bb_px_dist_{class_name}.png')\n",
    "    plt.show()"
>>>>>>> c72ce62... VERBOSE added for feedback
   ]
  },
  {
   "cell_type": "code",
   "execution_count": null,
<<<<<<< HEAD
   "id": "e14039a7-d712-4502-9d48-938640c15565",
=======
   "id": "d421c1d0-4658-4afe-ab02-4dbefbf204d5",
   "metadata": {},
   "outputs": [],
   "source": [
    "df"
   ]
  },
  {
   "cell_type": "code",
   "execution_count": null,
   "id": "996d27dd-69de-431e-a446-7c4799d42d60",
   "metadata": {},
   "outputs": [],
   "source": []
  },
  {
   "cell_type": "code",
   "execution_count": null,
   "id": "82882803-620d-4fd2-b4ba-6f27383965fd",
   "metadata": {},
   "outputs": [],
   "source": []
  },
  {
   "cell_type": "code",
   "execution_count": null,
   "id": "8968974c-74d3-46c9-a0e9-70bc52662b9b",
   "metadata": {},
   "outputs": [],
   "source": []
  },
  {
   "cell_type": "code",
   "execution_count": null,
   "id": "8a43c966-52bd-4d6e-bc07-f3ab1880d0c0",
   "metadata": {},
   "outputs": [],
   "source": []
  },
  {
   "cell_type": "code",
   "execution_count": null,
   "id": "79b97ee1-48f9-4425-8cd9-e01de874299e",
   "metadata": {},
   "outputs": [],
   "source": []
  },
  {
   "cell_type": "markdown",
   "id": "255195d4-da64-4c20-836a-a0d3577cc966",
   "metadata": {},
   "source": [
    "# Practice Block"
   ]
  },
  {
   "cell_type": "code",
   "execution_count": null,
   "id": "ea22070c-186d-4a96-b93c-d996dd8ee02e",
   "metadata": {},
   "outputs": [],
   "source": [
    "from PIL import Image"
   ]
  },
  {
   "cell_type": "code",
   "execution_count": null,
   "id": "36aeda83-72f5-4680-bb74-2d31b56826ca",
>>>>>>> c72ce62... VERBOSE added for feedback
   "metadata": {},
   "outputs": [],
   "source": [
<<<<<<< HEAD
    "df.groupby(['class_idx']).mean()"
=======
    "img = Image.open('../dataset/1_7/train/10.jpg')"
>>>>>>> cbc5258... pixel mode tested
   ]
  },
  {
   "cell_type": "code",
   "execution_count": null,
   "id": "ea22070c-186d-4a96-b93c-d996dd8ee02e",
   "metadata": {},
   "outputs": [],
   "source": [
    "\n"
   ]
  },
  {
   "cell_type": "markdown",
   "id": "6917352c-99b3-41a7-912d-7cf9c89ead12",
   "metadata": {},
   "source": [
    "## Fetching the modes of pixels"
   ]
  },
  {
   "cell_type": "code",
   "execution_count": null,
   "id": "47c218ff-92de-4a21-a4ee-4ee942554831",
   "metadata": {},
   "outputs": [],
   "source": [
    "np_img = np.asarray(img)\n",
    "np_img.shape"
   ]
  },
  {
   "cell_type": "code",
   "execution_count": null,
   "id": "bc1b2054-447d-4680-9acb-2b07993746c2",
   "metadata": {},
   "outputs": [],
   "source": [
    "plt.imshow(np_img)"
   ]
  },
  {
   "cell_type": "code",
   "execution_count": null,
   "id": "3e640cda-461c-4cc3-a451-61b92f116da2",
   "metadata": {},
   "outputs": [],
   "source": [
    "def get_mode(X):\n",
    "    vals,counts = np.unique(X, return_counts=True)\n",
    "    index = np.argmax(counts)\n",
    "    return vals[index]"
   ]
  },
  {
   "cell_type": "code",
   "execution_count": null,
   "id": "0220c2e4-9891-4ebc-bd1e-38faab0106ce",
   "metadata": {},
   "outputs": [],
   "source": [
    "r_arr = np_img[:, :, 0]\n",
    "g_arr = np_img[:, :, 1]\n",
    "b_arr = np_img[:, :, 2]\n",
    "\n",
    "raf = r_arr.flatten()\n",
    "gaf = g_arr.flatten()\n",
    "baf = b_arr.flatten()"
   ]
  },
  {
   "cell_type": "code",
   "execution_count": null,
   "id": "9f5b722d-7f0a-4e01-a776-85038cefe253",
   "metadata": {},
   "outputs": [],
   "source": [
    "rf_mean = raf.mean()\n",
    "gf_mean = gaf.mean()\n",
    "bf_mean = baf.mean()\n",
    "\n",
    "rf_mode = get_mode(raf)\n",
    "gf_mode = get_mode(gaf)\n",
    "bf_mode = get_mode(baf)"
   ]
  },
  {
   "cell_type": "code",
   "execution_count": null,
   "id": "f7714491-e134-4cfd-a5c8-aec95b8511df",
   "metadata": {},
   "outputs": [],
   "source": [
    "x = np.full((20, 20), rf_mode, dtype='uint8')\n",
    "y = np.full((20, 20), gf_mode, dtype='uint8')\n",
    "z = np.full((20, 20), bf_mode, dtype='uint8')"
   ]
  },
  {
   "cell_type": "code",
   "execution_count": null,
   "id": "bc9d5f8c-62db-4cec-b3a5-7504eb3f8e64",
   "metadata": {},
   "outputs": [],
   "source": [
    "test = np.stack([\n",
    "    x, \n",
    "    y, \n",
    "    z,\n",
    "],axis=-1)\n"
   ]
  },
  {
   "cell_type": "code",
   "execution_count": null,
   "id": "f0b2c705-a99f-426b-b632-f028a1c1280c",
   "metadata": {},
   "outputs": [],
   "source": [
    "test.shape"
   ]
  },
  {
   "cell_type": "code",
   "execution_count": null,
   "id": "170e1041-f64f-46ec-81ec-7d779ec834bf",
   "metadata": {},
   "outputs": [],
   "source": [
    "plt.imshow(test)"
   ]
  },
  {
   "cell_type": "code",
   "execution_count": null,
   "id": "c8791327-0aaf-48ed-8257-d4337f037a3f",
   "metadata": {},
   "outputs": [],
   "source": []
  },
  {
   "cell_type": "code",
   "execution_count": null,
   "id": "ac482e3f-c444-44bb-bef9-810bdd63caf0",
   "metadata": {},
   "outputs": [],
   "source": []
  },
  {
   "cell_type": "code",
   "execution_count": null,
   "id": "f6981157-fa8d-4853-8575-c0e2f740d9ab",
   "metadata": {},
   "outputs": [],
   "source": []
  },
  {
   "cell_type": "code",
   "execution_count": null,
   "id": "7325c91e-7f2a-48ce-95ab-45afbd0dafed",
   "metadata": {},
   "outputs": [],
   "source": []
  },
  {
   "cell_type": "code",
   "execution_count": null,
   "id": "75999b20-52a9-4a90-8e0f-5cc4dc662018",
   "metadata": {},
   "outputs": [],
   "source": []
  }
 ],
 "metadata": {
  "kernelspec": {
   "display_name": "Python 3 (ipykernel)",
   "language": "python",
   "name": "python3"
  },
  "language_info": {
   "codemirror_mode": {
    "name": "ipython",
    "version": 3
   },
   "file_extension": ".py",
   "mimetype": "text/x-python",
   "name": "python",
   "nbconvert_exporter": "python",
   "pygments_lexer": "ipython3",
   "version": "3.8.10"
  }
 },
 "nbformat": 4,
 "nbformat_minor": 5
}
