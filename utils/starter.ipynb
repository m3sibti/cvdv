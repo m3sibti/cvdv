{
 "cells": [
  {
   "cell_type": "code",
   "execution_count": null,
   "id": "9507e810-034f-435b-a842-f9307733f6a8",
   "metadata": {},
   "outputs": [],
   "source": [
    "import pandas as pd\n",
    "import numpy as np\n",
    "import matplotlib.pyplot as plt\n",
    "import os"
   ]
  },
  {
   "cell_type": "code",
   "execution_count": null,
   "id": "8c2a404f-f072-4944-866e-b261604cfc6c",
   "metadata": {
    "tags": []
   },
   "outputs": [],
   "source": [
    "print(pd.__version__)\n",
    "print(np.__version__)\n",
    "plt.imshow(np.zeros(shape=(28, 28)), cmap='gray')"
   ]
  },
  {
   "cell_type": "markdown",
   "id": "a85d2d50-eab0-408e-9712-e503a0fa2140",
   "metadata": {},
   "source": [
    "Columns:\n",
    "\n",
    "image_name image_size class cx cy bw bh"
   ]
  },
  {
   "cell_type": "code",
   "execution_count": null,
   "id": "f5f3a06e-4a22-47bc-b11d-7fdaa749d2a1",
   "metadata": {},
   "outputs": [],
   "source": [
    "HOME_PATH = './dataset/1_7/train'\n",
    "IMAGE_SIZE = 544"
   ]
  },
  {
   "cell_type": "code",
   "execution_count": null,
   "id": "158bbf0b-5a9c-4d1e-93eb-c996bdc8c0d6",
   "metadata": {},
   "outputs": [],
   "source": [
    "files_list = os.listdir(HOME_PATH)\n",
    "files_list.sort()\n",
    "f'Total Image Files {int(len(files_list) / 2)}'"
   ]
  },
  {
   "cell_type": "code",
   "execution_count": null,
   "id": "7076f5ed-5c4d-4846-81ed-85fc4a8a7e2e",
   "metadata": {},
   "outputs": [],
   "source": [
    "total_list = []\n",
    "for file_name in files_list:\n",
    "    if file_name.endswith('.txt') and not file_name.startswith('class'):\n",
    "        file_path = os.path.join(HOME_PATH, file_name)\n",
    "        with open(file_path) as fp:\n",
    "            # print(file_name)\n",
    "            file_data = fp.readlines()\n",
    "            for data_list in file_data:\n",
    "                data_item = data_list.split(' ')\n",
    "                total_list.append([\n",
    "                    file_path,\n",
    "                    IMAGE_SIZE,\n",
    "                    int(data_item[0]),\n",
    "                    float(data_item[1]),\n",
    "                    float(data_item[2]),\n",
    "                    float(data_item[3]),\n",
    "                    float(data_item[4])\n",
    "                ])\n",
    "df = pd.DataFrame(data=total_list, columns=['img_path', 'img_size', 'class_idx', 'cx', 'cy', 'bw', 'bh'])"
   ]
  },
  {
   "cell_type": "code",
   "execution_count": null,
   "id": "e78125dc-2e3f-43ac-88ae-a63e40da3723",
   "metadata": {},
   "outputs": [],
   "source": [
    "df"
   ]
  },
  {
   "cell_type": "code",
   "execution_count": null,
   "id": "e14039a7-d712-4502-9d48-938640c15565",
   "metadata": {},
   "outputs": [],
   "source": [
    "df.groupby(['class_idx']).mean()"
   ]
  },
  {
   "cell_type": "code",
   "execution_count": null,
   "id": "ea22070c-186d-4a96-b93c-d996dd8ee02e",
   "metadata": {},
   "outputs": [],
   "source": [
    "\n"
   ]
  }
 ],
 "metadata": {
  "kernelspec": {
   "display_name": "Python 3 (ipykernel)",
   "language": "python",
   "name": "python3"
  },
  "language_info": {
   "codemirror_mode": {
    "name": "ipython",
    "version": 3
   },
   "file_extension": ".py",
   "mimetype": "text/x-python",
   "name": "python",
   "nbconvert_exporter": "python",
   "pygments_lexer": "ipython3",
   "version": "3.8.10"
  }
 },
 "nbformat": 4,
 "nbformat_minor": 5
}
