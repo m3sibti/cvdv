{
 "cells": [
  {
   "cell_type": "code",
   "execution_count": null,
   "id": "1f4ca906-4091-419a-9eb4-1fb356d2ec8c",
   "metadata": {},
   "outputs": [],
   "source": [
    "import pandas as pd\n",
    "import matplotlib.pyplot as plt\n",
    "from PIL import Image\n",
    "import os\n",
    "import numpy as np\n",
    "from tqdm import tqdm"
   ]
  },
  {
   "cell_type": "code",
   "execution_count": null,
   "id": "495a7f2d-09f9-4372-aa82-996ccab5affe",
   "metadata": {},
   "outputs": [],
   "source": [
    "home_path = '../dataset/1_7/train'\n",
    "# img_size = 544\n",
    "img_w, img_h = 544, 544\n",
    "details_level = 'all'\n",
    "is_all = False\n",
    "if details_level.upper() == 'ALL':\n",
    "    is_all = True\n",
    "\n",
    "print(f'Details all: {is_all}')"
   ]
  },
  {
   "cell_type": "code",
   "execution_count": null,
   "id": "b68d6495-eecc-48be-b3ec-c474e4e24d5f",
   "metadata": {},
   "outputs": [],
   "source": [
    "files_list = os.listdir(home_path)\n",
    "files_list.sort()\n",
    "print(f'Total Image Files: {int(len(files_list) / 2)}')"
   ]
  },
  {
   "cell_type": "code",
   "execution_count": null,
   "id": "4bea4531-9f8e-4edb-bf89-37167a8b10b1",
   "metadata": {},
   "outputs": [],
   "source": []
  },
  {
   "cell_type": "code",
   "execution_count": null,
   "id": "2ff4d3b6-d19d-49f7-9fb8-beabb2609e12",
   "metadata": {},
   "outputs": [],
   "source": [
    "def cal_mode(X):\n",
    "    X = X.flatten()\n",
    "    idx, cnts = np.unique(X, return_counts=True)\n",
    "    nid = np.argmax(cnts)\n",
    "    return idx[nid]\n",
    "\n",
    "def get_img_path(f_name):\n",
    "    fn_list = f_name.split('.')\n",
    "    img_name, ext = '.'.join(fn_list[:-1]), fn_list[-1]\n",
    "    for extension in ['.jpg', '.png']:\n",
    "        img_path = os.path.join(home_path, img_name+extension)\n",
    "        if os.path.isfile(img_path):\n",
    "            return img_path\n",
    "        \n",
    "        \n",
    "def get_img_vals(pil_img=None):\n",
    "    np_img = np.asarray(pil_img)\n",
    "    \n",
    "    raf = np_img[..., 0]\n",
    "    gaf = np_img[..., 1]\n",
    "    baf = np_img[..., 2]\n",
    "    \n",
    "    r_mode = cal_mode(raf)\n",
    "    g_mode = cal_mode(gaf)\n",
    "    b_mode = cal_mode(baf)\n",
    "    \n",
    "    #print(r_mode, g_mode, b_mode)\n",
    "    return (r_mode, g_mode, b_mode)\n",
    "    \n",
    "    # plt.imshow(pil_img)\n",
    "    # plt.show()"
   ]
  },
  {
   "cell_type": "code",
   "execution_count": null,
   "id": "68175bc1-4d74-41a7-82ef-ceeacf80c738",
   "metadata": {},
   "outputs": [],
   "source": [
    "def get_current_image(img_path):\n",
    "    pil_img = Image.open(img_path)\n",
    "    return pil_img\n",
    "    \n",
    "def get_obj_coordinates(curr_image, obj_data):\n",
    "    c_img_w = curr_image.size[0]\n",
    "    c_img_h = curr_image.size[1]\n",
    "    \n",
    "    cx = (float(data_item[1]) * c_img_w)\n",
    "    cy = (float(data_item[2]) * c_img_h)\n",
    "    bw = (float(data_item[3]) * c_img_w)\n",
    "    bh = (float(data_item[4]) * c_img_h)\n",
    "    # print(obj_data)\n",
    "    \n",
    "    left = int(cx - (bw / 2))\n",
    "    top = int(cy - (bh / 2))\n",
    "    right = int(cx + (bw / 2))\n",
    "    bottom = int(cy + (bh / 2))\n",
    "    \n",
    "    cropped_img = curr_image.crop((left, top, right, bottom))\n",
    "    return get_img_vals(cropped_img)"
   ]
  },
  {
   "cell_type": "code",
   "execution_count": null,
   "id": "322df3a8-25b3-48ed-8133-8e0db9d493a2",
   "metadata": {},
   "outputs": [],
   "source": [
    "columns_list = ['img_path',\n",
    "               'img_size',\n",
    "               'img_width',\n",
    "               'img_height',\n",
    "               \n",
    "               'class_name',\n",
    "               'class_idx',\n",
    "               \n",
    "               'ncx',\n",
    "               'ncy',\n",
    "               'nbw',\n",
    "               'nbh']"
   ]
  },
  {
   "cell_type": "code",
   "execution_count": null,
   "id": "83ef289e-0c97-4cfc-b9cb-b945df4fc9a0",
   "metadata": {},
   "outputs": [],
   "source": [
    "total_list = []\n",
    "\n",
    "class_file = os.path.join(home_path, 'classes.txt')\n",
    "with open(class_file) as fc:\n",
    "    class_list = fc.readlines()\n",
    "\n",
    "for file_name in tqdm(files_list):\n",
    "    if file_name.endswith('.txt') and not file_name.startswith('class'):\n",
    "        file_path = os.path.join(home_path, file_name)\n",
    "        \n",
    "        # if is_all\n",
    "        if is_all:\n",
    "            current_image = get_current_image(get_img_path(file_name))\n",
    "            im_r_mode, im_g_mode, im_b_mode = get_img_vals(current_image)\n",
    "        # print(im_r_mode, im_g_mode, im_b_mode)\n",
    "        \n",
    "        with open(file_path) as fp:\n",
    "            # print(file_name)\n",
    "            file_data = fp.readlines()\n",
    "            for data_list in file_data:\n",
    "                data_item = data_list.split(' ')\n",
    "                if is_all:\n",
    "                    obj_r_mode, obj_g_mode, obj_b_mode = get_obj_coordinates(curr_image=current_image,\n",
    "                                                                             obj_data=data_item)\n",
    "                try:\n",
    "                    item_list = [\n",
    "                        file_path,\n",
    "                        \n",
    "                        #img_size * img_size,\n",
    "                        #img_size,\n",
    "                        #img_size,\n",
    "                        img_w * img_h,\n",
    "                        img_w,\n",
    "                        img_h,\n",
    "                        \n",
    "                        class_list[int(data_item[0])].replace('\\n', ''),\n",
    "                        int(data_item[0]),\n",
    "                        \n",
    "                        float(data_item[1]),\n",
    "                        float(data_item[2]),\n",
    "                        float(data_item[3]),\n",
    "                        float(data_item[4]),\n",
    "                    ]\n",
    "                    \n",
    "                    \n",
    "                    if is_all:\n",
    "                        item_list.extend([\n",
    "                            int(im_r_mode),\n",
    "                            int(im_g_mode),\n",
    "                            int(im_b_mode),\n",
    "                        \n",
    "                            int(obj_r_mode),\n",
    "                            int(obj_g_mode),\n",
    "                            int(obj_b_mode),])\n",
    "                        \n",
    "                        \n",
    "                    total_list.append(item_list)\n",
    "                        \n",
    "                        \n",
    "                except IndexError:\n",
    "                    print('\\nClass names must match with # of objects')\n",
    "                    print('Please check your object labels or total of class names.\\n')\n",
    "                    exit(0)\n",
    "\n",
    "\n",
    "#print(columns_list)\n",
    "#print(total_list)\n",
    "if is_all:\n",
    "    columns_list.extend(['im_r_mode', 'im_g_mode', 'im_b_mode',\n",
    "                         'obj_r_mode', 'obj_g_mode','obj_b_mode',])\n",
    "    \n",
    "    \n",
    "df = pd.DataFrame(data=total_list,\n",
    "                  columns=columns_list)\n",
    "\n",
    "\n",
    "#df['cx'], df['cy'], df['bw'], df['bh'] = df.ncx * img_size, df.ncy * img_size, df.nbw * img_size, df.nbh * img_size\n",
    "df['cx'], df['cy'], df['bw'], df['bh'] = df.ncx * img_w, df.ncy * img_h, df.nbw * img_w, df.nbh * img_h\n",
    "\n",
    "df['obj_px'] = df['bw'] * df['bh']\n",
    "df['obj_img_ratio'] = df['obj_px'] / df['img_size']"
   ]
  },
  {
   "cell_type": "code",
   "execution_count": null,
   "id": "10cf1dfa-15d8-448e-bab3-dc79236f47a5",
   "metadata": {},
   "outputs": [],
   "source": [
    "df.head()"
   ]
  },
  {
   "cell_type": "code",
   "execution_count": null,
   "id": "d9158b54-6db6-4426-8b2e-16d012ca8458",
   "metadata": {},
   "outputs": [],
   "source": [
    "class_grp = df.groupby(['class_name'])\n",
    "class_grp.mean()"
   ]
  },
  {
   "cell_type": "code",
   "execution_count": null,
   "id": "137d0f49-53f6-4adc-9c50-0ed3e445663b",
   "metadata": {},
   "outputs": [],
   "source": [
    "data_dict = dict()\n",
    "for class_item in tqdm(class_grp):\n",
    "    class_name = class_item[0]\n",
    "    class_df = class_item[1]\n",
    "    class_np = np.zeros((class_df.shape[0], 4, 4, 3))\n",
    "    #print(class_df.shape[0])\n",
    "    for idx, (r_idx, class_df_row) in enumerate(class_df.iterrows()):\n",
    "        r_val = class_df_row['obj_r_mode']\n",
    "        g_val = class_df_row['obj_g_mode']\n",
    "        b_val = class_df_row['obj_b_mode']\n",
    "        \n",
    "        class_np[idx][..., 0].fill(r_val)\n",
    "        class_np[idx][..., 1].fill(g_val)\n",
    "        class_np[idx][..., 2].fill(b_val)\n",
    "        \n",
    "    data_dict.update({class_name: class_np.astype('uint8')})"
   ]
  },
  {
   "cell_type": "code",
   "execution_count": null,
   "id": "1528b586-cb49-4bd7-a3a8-f39b1ac7e79b",
   "metadata": {},
   "outputs": [],
   "source": [
    "data_dict['Non'].shape"
   ]
  },
  {
   "cell_type": "code",
   "execution_count": null,
   "id": "c7f6bb42-5144-4334-a13f-e0e098d9a616",
   "metadata": {},
   "outputs": [],
   "source": [
    "plt.imshow(data_dict['Non'][9])"
   ]
  },
  {
   "cell_type": "code",
   "execution_count": null,
   "id": "8370b41d-4a2f-4225-954c-e01554ce8f5f",
   "metadata": {},
   "outputs": [],
   "source": [
    "def show_images(images, cols = 1, titles = None):\n",
    "    \"\"\"Display a list of images in a single figure with matplotlib.\n",
    "    \n",
    "    Parameters\n",
    "    ---------\n",
    "    images: List of np.arrays compatible with plt.imshow.\n",
    "    \n",
    "    cols (Default = 1): Number of columns in figure (number of rows is \n",
    "                        set to np.ceil(n_images/float(cols))).\n",
    "    \n",
    "    titles: List of titles corresponding to each image. Must have\n",
    "            the same length as titles.\n",
    "    \"\"\"\n",
    "    assert((titles is None)or (len(images) == len(titles)))\n",
    "    n_images = len(images)\n",
    "    if titles is None: titles = ['Image (%d)' % i for i in range(1,n_images + 1)]\n",
    "    fig = plt.figure()\n",
    "    for n, (image, title) in enumerate(zip(images, titles)):\n",
    "        a = fig.add_subplot(np.ceil(n_images/float(cols)),cols, n + 1)\n",
    "        if image.ndim == 2:\n",
    "            plt.gray()\n",
    "        plt.imshow(image)\n",
    "        a.set_title(title)\n",
    "    fig.set_size_inches(np.array(fig.get_size_inches()) * n_images)\n",
    "    plt.show()"
   ]
  },
  {
   "cell_type": "code",
   "execution_count": null,
   "id": "3349c282-bf68-415e-b948-15f61b235432",
   "metadata": {},
   "outputs": [],
   "source": [
    "show_images(data_dict['Non'][:80], cols=20)"
   ]
  },
  {
   "cell_type": "code",
   "execution_count": null,
   "id": "43dea430-7f0d-418c-8e9e-4433dbc120a2",
   "metadata": {},
   "outputs": [],
   "source": [
    "def display_multiple_img(images, rows = 1, cols=1):\n",
    "    figure, ax = plt.subplots(nrows=rows,ncols=cols )\n",
    "    for ind,title in enumerate(images):\n",
    "        ax.ravel()[ind].imshow(images[title])\n",
    "        ax.ravel()[ind].set_title(title)\n",
    "        ax.ravel()[ind].set_axis_off()\n",
    "    plt.tight_layout()\n",
    "    plt.show()\n",
    "    \n",
    "    \n",
    "display_multiple_img(data_dict['Non'][:80], 2, 20)"
   ]
  },
  {
   "cell_type": "code",
   "execution_count": null,
   "id": "5dee1c58-357f-43b8-bfd8-bf728de8fdba",
   "metadata": {},
   "outputs": [],
   "source": []
  },
  {
   "cell_type": "code",
   "execution_count": null,
   "id": "80431a0d-2131-4bbb-979c-d1d0ce143509",
   "metadata": {},
   "outputs": [],
   "source": []
  },
  {
   "cell_type": "code",
   "execution_count": null,
   "id": "bfab728e-bf65-4bce-9aad-56582073d1dd",
   "metadata": {},
   "outputs": [],
   "source": []
  },
  {
   "cell_type": "code",
   "execution_count": null,
   "id": "c7421301-37d2-4614-8d5c-ba0d1cb6f310",
   "metadata": {},
   "outputs": [],
   "source": []
  },
  {
   "cell_type": "code",
   "execution_count": null,
   "id": "506cfbf4-8e64-48ce-a069-09439d46b4aa",
   "metadata": {},
   "outputs": [],
   "source": []
  },
  {
   "cell_type": "markdown",
   "id": "dbbbf8a9-d309-482c-88e3-96087341ed64",
   "metadata": {},
   "source": [
    "# TODO BLOCK"
   ]
  },
  {
   "cell_type": "markdown",
   "id": "a72d4960-63c9-4922-9cf8-72f71c3d6b31",
   "metadata": {},
   "source": [
    "Object-Wise Pixel-Level Info (Modes)"
   ]
  },
  {
   "cell_type": "code",
   "execution_count": null,
   "id": "9efb7f88-d554-44ce-9bc3-9b494be3dc4a",
   "metadata": {},
   "outputs": [],
   "source": [
    "pil_img = Image.open('../dataset/00897.jpg')\n",
    "plt.imshow(pil_img)"
   ]
  },
  {
   "cell_type": "code",
   "execution_count": null,
   "id": "d75cc10b-87ac-43ca-aeae-60469fa93c4b",
   "metadata": {},
   "outputs": [],
   "source": [
    "dfxi = df[df['img_path'] == '../dataset/00897.txt']\n",
    "dfxi = dfxi[['cx', 'cy', 'bw', 'bh']].iloc[0]\n",
    "dfxi"
   ]
  },
  {
   "cell_type": "code",
   "execution_count": null,
   "id": "45597aa6-131f-447a-abde-aaa145acf804",
   "metadata": {},
   "outputs": [],
   "source": [
    "left = int(dfxi.cx - (dfxi.bw / 2))\n",
    "top = int(dfxi.cy - (dfxi.bh / 2))\n",
    "right = int(dfxi.cx + (dfxi.bw / 2))\n",
    "bottom = int(dfxi.cy + (dfxi.bh / 2))\n",
    "left, top"
   ]
  },
  {
   "cell_type": "code",
   "execution_count": null,
   "id": "8aabca04-0883-4323-a46b-8c3f9b93df7f",
   "metadata": {},
   "outputs": [],
   "source": [
    "crop_img = pil_img.crop((left, top, right, bottom))\n",
    "plt.imshow(crop_img)"
   ]
  },
  {
   "cell_type": "code",
   "execution_count": null,
   "id": "dcb37b17-26b2-4bca-8821-b5960b552caa",
   "metadata": {},
   "outputs": [],
   "source": [
    "cropped_np_img = np.asarray(crop_img)\n",
    "cropped_np_img.shape"
   ]
  },
  {
   "cell_type": "code",
   "execution_count": null,
   "id": "7467b561-27c9-4885-b523-f6ec28a3ae16",
   "metadata": {},
   "outputs": [],
   "source": [
    "cal_mode(cropped_np_img[..., 0].flatten())"
   ]
  },
  {
   "cell_type": "code",
   "execution_count": null,
   "id": "e1df2dd3-f2dc-43fb-b7f8-2417b6903c51",
   "metadata": {},
   "outputs": [],
   "source": []
  },
  {
   "cell_type": "markdown",
   "id": "7617bb50-f2ee-4f2a-bcd0-3cc7aefa90b5",
   "metadata": {},
   "source": [
    "## Practice Block"
   ]
  },
  {
   "cell_type": "code",
   "execution_count": null,
   "id": "dded07e3-a151-404d-bc1b-4ef4dcb63e80",
   "metadata": {},
   "outputs": [],
   "source": [
    "pil_img = Image.open('')\n",
    "np_img = np.asarray(pil_img)\n",
    "np_img.shape"
   ]
  },
  {
   "cell_type": "code",
   "execution_count": null,
   "id": "ac3657ea-e1dd-4bcd-b287-33de08be610a",
   "metadata": {},
   "outputs": [],
   "source": [
    "raf_img = np_img[..., 0]\n",
    "gaf_img = np_img[..., 1]\n",
    "baf_img = np_img[..., 2]"
   ]
  },
  {
   "cell_type": "code",
   "execution_count": null,
   "id": "656c2580-ed73-4b9e-8257-420625c4aa60",
   "metadata": {},
   "outputs": [],
   "source": [
    "\n",
    "idx, cnts"
   ]
  },
  {
   "cell_type": "code",
   "execution_count": null,
   "id": "e395b389-466d-45db-ac06-ebe3c67cb48e",
   "metadata": {},
   "outputs": [],
   "source": [
    "np.argmax(cnts)"
   ]
  },
  {
   "cell_type": "code",
   "execution_count": null,
   "id": "f65cfd2c-d84f-4ee2-a265-fca0a93b422a",
   "metadata": {},
   "outputs": [],
   "source": [
    "idx[175]"
   ]
  },
  {
   "cell_type": "code",
   "execution_count": null,
   "id": "6724c069-bc63-425c-9de0-54271bbe844e",
   "metadata": {},
   "outputs": [],
   "source": []
  }
 ],
 "metadata": {
  "kernelspec": {
   "display_name": "Python 3 (ipykernel)",
   "language": "python",
   "name": "python3"
  },
  "language_info": {
   "codemirror_mode": {
    "name": "ipython",
    "version": 3
   },
   "file_extension": ".py",
   "mimetype": "text/x-python",
   "name": "python",
   "nbconvert_exporter": "python",
   "pygments_lexer": "ipython3",
   "version": "3.8.10"
  }
 },
 "nbformat": 4,
 "nbformat_minor": 5
}
