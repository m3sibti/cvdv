{
 "cells": [
  {
   "cell_type": "code",
   "execution_count": 61,
   "id": "1f4ca906-4091-419a-9eb4-1fb356d2ec8c",
   "metadata": {},
   "outputs": [],
   "source": [
    "import pandas as pd\n",
    "import matplotlib.pyplot as plt\n",
    "from PIL import Image\n",
    "import os\n",
    "import numpy as np\n",
    "from tqdm import tqdm"
   ]
  },
  {
   "cell_type": "code",
   "execution_count": 62,
   "id": "495a7f2d-09f9-4372-aa82-996ccab5affe",
   "metadata": {},
   "outputs": [],
   "source": [
    "home_path = '../dataset'\n",
    "# img_size = 544\n",
    "img_w, img_h = 1360, 800"
   ]
  },
  {
   "cell_type": "code",
   "execution_count": 63,
   "id": "b68d6495-eecc-48be-b3ec-c474e4e24d5f",
   "metadata": {},
   "outputs": [
    {
     "name": "stdout",
     "output_type": "stream",
     "text": [
      "Total Image Files: 741\n"
     ]
    }
   ],
   "source": [
    "files_list = os.listdir(home_path)\n",
    "files_list.sort()\n",
    "print(f'Total Image Files: {int(len(files_list) / 2)}')"
   ]
  },
  {
   "cell_type": "code",
   "execution_count": 64,
   "id": "2ff4d3b6-d19d-49f7-9fb8-beabb2609e12",
   "metadata": {},
   "outputs": [],
   "source": [
    "def cal_mode(X):\n",
    "    X = X.flatten()\n",
    "    idx, cnts = np.unique(X, return_counts=True)\n",
    "    nid = np.argmax(cnts)\n",
    "    return idx[nid]\n",
    "\n",
    "def get_img_path(f_name):\n",
    "    fn_list = f_name.split('.')\n",
    "    img_name, ext = '.'.join(fn_list[:-1]), fn_list[-1]\n",
    "    for extension in ['.jpg', '.png']:\n",
    "        img_path = os.path.join(home_path, img_name+extension)\n",
    "        if os.path.isfile(img_path):\n",
    "            return img_path\n",
    "        \n",
    "        \n",
    "def get_img_vals(pil_img=None):\n",
    "    np_img = np.asarray(pil_img)\n",
    "    \n",
    "    raf = np_img[..., 0]\n",
    "    gaf = np_img[..., 1]\n",
    "    baf = np_img[..., 2]\n",
    "    \n",
    "    r_mode = cal_mode(raf)\n",
    "    g_mode = cal_mode(gaf)\n",
    "    b_mode = cal_mode(baf)\n",
    "    \n",
    "    #print(r_mode, g_mode, b_mode)\n",
    "    return (r_mode, g_mode, b_mode)\n",
    "    \n",
    "    # plt.imshow(pil_img)\n",
    "    # plt.show()"
   ]
  },
  {
   "cell_type": "code",
   "execution_count": 65,
   "id": "68175bc1-4d74-41a7-82ef-ceeacf80c738",
   "metadata": {},
   "outputs": [],
   "source": [
    "def get_current_image(img_path):\n",
    "    pil_img = Image.open(img_path)\n",
    "    return pil_img\n",
    "    \n",
    "def get_obj_coordinates(curr_image, obj_data):\n",
    "    c_img_w = curr_image.size[0]\n",
    "    c_img_h = curr_image.size[1]\n",
    "    \n",
    "    cx = (float(data_item[1]) * c_img_w)\n",
    "    cy = (float(data_item[2]) * c_img_h)\n",
    "    bw = (float(data_item[3]) * c_img_w)\n",
    "    bh = (float(data_item[4]) * c_img_h)\n",
    "    # print(obj_data)\n",
    "    \n",
    "    left = int(cx - (bw / 2))\n",
    "    top = int(cy - (bh / 2))\n",
    "    right = int(cx + (bw / 2))\n",
    "    bottom = int(cy + (bh / 2))\n",
    "    \n",
    "    cropped_img = curr_image.crop((left, top, right, bottom))\n",
    "    return get_img_vals(cropped_img)"
   ]
  },
  {
   "cell_type": "code",
   "execution_count": 66,
   "id": "83ef289e-0c97-4cfc-b9cb-b945df4fc9a0",
   "metadata": {},
   "outputs": [
    {
     "name": "stderr",
     "output_type": "stream",
     "text": [
      "100%|███████████████████████████████████████| 1483/1483 [01:18<00:00, 18.94it/s]\n"
     ]
    }
   ],
   "source": [
    "total_list = []\n",
    "\n",
    "class_file = os.path.join(home_path, 'classes.txt')\n",
    "with open(class_file) as fc:\n",
    "    class_list = fc.readlines()\n",
    "\n",
    "for file_name in tqdm(files_list):\n",
    "    if file_name.endswith('.txt') and not file_name.startswith('class'):\n",
    "        file_path = os.path.join(home_path, file_name)\n",
    "        \n",
    "        current_image = get_current_image(get_img_path(file_name))\n",
    "        im_r_mode, im_g_mode, im_b_mode = get_img_vals(current_image)\n",
    "        # print(im_r_mode, im_g_mode, im_b_mode)\n",
    "        \n",
    "        with open(file_path) as fp:\n",
    "            # print(file_name)\n",
    "            file_data = fp.readlines()\n",
    "            for data_list in file_data:\n",
    "                data_item = data_list.split(' ')\n",
    "                obj_r_mode, obj_g_mode, obj_b_mode = get_obj_coordinates(curr_image=current_image,\n",
    "                                   obj_data=data_item)\n",
    "                try:\n",
    "                    total_list.append([\n",
    "                        file_path,\n",
    "                        \n",
    "                        #img_size * img_size,\n",
    "                        #img_size,\n",
    "                        #img_size,\n",
    "                        img_w * img_h,\n",
    "                        img_w,\n",
    "                        img_h,\n",
    "                        \n",
    "                        class_list[int(data_item[0])].replace('\\n', ''),\n",
    "                        int(data_item[0]),\n",
    "                        \n",
    "                        int(im_r_mode),\n",
    "                        int(im_g_mode),\n",
    "                        int(im_b_mode),\n",
    "                        \n",
    "                        int(obj_r_mode),\n",
    "                        int(obj_g_mode),\n",
    "                        int(obj_b_mode),\n",
    "                        \n",
    "                        float(data_item[1]),\n",
    "                        float(data_item[2]),\n",
    "                        float(data_item[3]),\n",
    "                        float(data_item[4])\n",
    "                    ])\n",
    "                except IndexError:\n",
    "                    print('\\nClass names must match with # of objects')\n",
    "                    print('Please check your object labels or total of class names.\\n')\n",
    "                    exit(0)\n",
    "\n",
    "df = pd.DataFrame(data=total_list,\n",
    "                  columns=['img_path',\n",
    "                           \n",
    "                           'img_size',\n",
    "                           'img_width',\n",
    "                           'img_height',\n",
    "                           \n",
    "                           'class_name',\n",
    "                           'class_idx',\n",
    "                           \n",
    "                           'im_r_mode',\n",
    "                           'im_g_mode',\n",
    "                           'im_b_mode',\n",
    "                           \n",
    "                           'obj_r_mode',\n",
    "                           'obj_g_mode',\n",
    "                           'obj_b_mode',\n",
    "                           \n",
    "                           'ncx',\n",
    "                           'ncy',\n",
    "                           'nbw',\n",
    "                           'nbh'\n",
    "                          ])\n",
    "\n",
    "\n",
    "#df['cx'], df['cy'], df['bw'], df['bh'] = df.ncx * img_size, df.ncy * img_size, df.nbw * img_size, df.nbh * img_size\n",
    "df['cx'], df['cy'], df['bw'], df['bh'] = df.ncx * img_w, df.ncy * img_h, df.nbw * img_w, df.nbh * img_h\n",
    "\n",
    "df['obj_px'] = df['bw'] * df['bh']\n",
    "df['obj_img_ratio'] = df['obj_px'] / df['img_size']"
   ]
  },
  {
   "cell_type": "code",
   "execution_count": 67,
   "id": "10cf1dfa-15d8-448e-bab3-dc79236f47a5",
   "metadata": {},
   "outputs": [
    {
     "data": {
      "text/html": [
       "<div>\n",
       "<style scoped>\n",
       "    .dataframe tbody tr th:only-of-type {\n",
       "        vertical-align: middle;\n",
       "    }\n",
       "\n",
       "    .dataframe tbody tr th {\n",
       "        vertical-align: top;\n",
       "    }\n",
       "\n",
       "    .dataframe thead th {\n",
       "        text-align: right;\n",
       "    }\n",
       "</style>\n",
       "<table border=\"1\" class=\"dataframe\">\n",
       "  <thead>\n",
       "    <tr style=\"text-align: right;\">\n",
       "      <th></th>\n",
       "      <th>img_path</th>\n",
       "      <th>img_size</th>\n",
       "      <th>img_width</th>\n",
       "      <th>img_height</th>\n",
       "      <th>class_name</th>\n",
       "      <th>class_idx</th>\n",
       "      <th>im_r_mode</th>\n",
       "      <th>im_g_mode</th>\n",
       "      <th>im_b_mode</th>\n",
       "      <th>obj_r_mode</th>\n",
       "      <th>...</th>\n",
       "      <th>ncx</th>\n",
       "      <th>ncy</th>\n",
       "      <th>nbw</th>\n",
       "      <th>nbh</th>\n",
       "      <th>cx</th>\n",
       "      <th>cy</th>\n",
       "      <th>bw</th>\n",
       "      <th>bh</th>\n",
       "      <th>obj_px</th>\n",
       "      <th>obj_img_ratio</th>\n",
       "    </tr>\n",
       "  </thead>\n",
       "  <tbody>\n",
       "    <tr>\n",
       "      <th>0</th>\n",
       "      <td>../dataset/00000.txt</td>\n",
       "      <td>1088000</td>\n",
       "      <td>1360</td>\n",
       "      <td>800</td>\n",
       "      <td>danger</td>\n",
       "      <td>1</td>\n",
       "      <td>255</td>\n",
       "      <td>255</td>\n",
       "      <td>255</td>\n",
       "      <td>255</td>\n",
       "      <td>...</td>\n",
       "      <td>0.584191</td>\n",
       "      <td>0.535625</td>\n",
       "      <td>0.030147</td>\n",
       "      <td>0.04375</td>\n",
       "      <td>794.5</td>\n",
       "      <td>428.5</td>\n",
       "      <td>41.0</td>\n",
       "      <td>35.0</td>\n",
       "      <td>1435.0</td>\n",
       "      <td>0.001319</td>\n",
       "    </tr>\n",
       "    <tr>\n",
       "      <th>1</th>\n",
       "      <td>../dataset/00001.txt</td>\n",
       "      <td>1088000</td>\n",
       "      <td>1360</td>\n",
       "      <td>800</td>\n",
       "      <td>mandatory</td>\n",
       "      <td>2</td>\n",
       "      <td>255</td>\n",
       "      <td>255</td>\n",
       "      <td>255</td>\n",
       "      <td>255</td>\n",
       "      <td>...</td>\n",
       "      <td>0.737868</td>\n",
       "      <td>0.512500</td>\n",
       "      <td>0.030147</td>\n",
       "      <td>0.05500</td>\n",
       "      <td>1003.5</td>\n",
       "      <td>410.0</td>\n",
       "      <td>41.0</td>\n",
       "      <td>44.0</td>\n",
       "      <td>1804.0</td>\n",
       "      <td>0.001658</td>\n",
       "    </tr>\n",
       "    <tr>\n",
       "      <th>2</th>\n",
       "      <td>../dataset/00001.txt</td>\n",
       "      <td>1088000</td>\n",
       "      <td>1360</td>\n",
       "      <td>800</td>\n",
       "      <td>mandatory</td>\n",
       "      <td>2</td>\n",
       "      <td>255</td>\n",
       "      <td>255</td>\n",
       "      <td>255</td>\n",
       "      <td>255</td>\n",
       "      <td>...</td>\n",
       "      <td>0.304412</td>\n",
       "      <td>0.653750</td>\n",
       "      <td>0.041176</td>\n",
       "      <td>0.07250</td>\n",
       "      <td>414.0</td>\n",
       "      <td>523.0</td>\n",
       "      <td>56.0</td>\n",
       "      <td>58.0</td>\n",
       "      <td>3248.0</td>\n",
       "      <td>0.002985</td>\n",
       "    </tr>\n",
       "    <tr>\n",
       "      <th>3</th>\n",
       "      <td>../dataset/00001.txt</td>\n",
       "      <td>1088000</td>\n",
       "      <td>1360</td>\n",
       "      <td>800</td>\n",
       "      <td>other</td>\n",
       "      <td>3</td>\n",
       "      <td>255</td>\n",
       "      <td>255</td>\n",
       "      <td>255</td>\n",
       "      <td>255</td>\n",
       "      <td>...</td>\n",
       "      <td>0.736765</td>\n",
       "      <td>0.453125</td>\n",
       "      <td>0.042647</td>\n",
       "      <td>0.06875</td>\n",
       "      <td>1002.0</td>\n",
       "      <td>362.5</td>\n",
       "      <td>58.0</td>\n",
       "      <td>55.0</td>\n",
       "      <td>3190.0</td>\n",
       "      <td>0.002932</td>\n",
       "    </tr>\n",
       "    <tr>\n",
       "      <th>4</th>\n",
       "      <td>../dataset/00002.txt</td>\n",
       "      <td>1088000</td>\n",
       "      <td>1360</td>\n",
       "      <td>800</td>\n",
       "      <td>mandatory</td>\n",
       "      <td>2</td>\n",
       "      <td>255</td>\n",
       "      <td>255</td>\n",
       "      <td>255</td>\n",
       "      <td>28</td>\n",
       "      <td>...</td>\n",
       "      <td>0.697794</td>\n",
       "      <td>0.667500</td>\n",
       "      <td>0.083824</td>\n",
       "      <td>0.14500</td>\n",
       "      <td>949.0</td>\n",
       "      <td>534.0</td>\n",
       "      <td>114.0</td>\n",
       "      <td>116.0</td>\n",
       "      <td>13224.0</td>\n",
       "      <td>0.012154</td>\n",
       "    </tr>\n",
       "  </tbody>\n",
       "</table>\n",
       "<p>5 rows × 22 columns</p>\n",
       "</div>"
      ],
      "text/plain": [
       "               img_path  img_size  img_width  img_height class_name  \\\n",
       "0  ../dataset/00000.txt   1088000       1360         800     danger   \n",
       "1  ../dataset/00001.txt   1088000       1360         800  mandatory   \n",
       "2  ../dataset/00001.txt   1088000       1360         800  mandatory   \n",
       "3  ../dataset/00001.txt   1088000       1360         800      other   \n",
       "4  ../dataset/00002.txt   1088000       1360         800  mandatory   \n",
       "\n",
       "   class_idx  im_r_mode  im_g_mode  im_b_mode  obj_r_mode  ...       ncx  \\\n",
       "0          1        255        255        255         255  ...  0.584191   \n",
       "1          2        255        255        255         255  ...  0.737868   \n",
       "2          2        255        255        255         255  ...  0.304412   \n",
       "3          3        255        255        255         255  ...  0.736765   \n",
       "4          2        255        255        255          28  ...  0.697794   \n",
       "\n",
       "        ncy       nbw      nbh      cx     cy     bw     bh   obj_px  \\\n",
       "0  0.535625  0.030147  0.04375   794.5  428.5   41.0   35.0   1435.0   \n",
       "1  0.512500  0.030147  0.05500  1003.5  410.0   41.0   44.0   1804.0   \n",
       "2  0.653750  0.041176  0.07250   414.0  523.0   56.0   58.0   3248.0   \n",
       "3  0.453125  0.042647  0.06875  1002.0  362.5   58.0   55.0   3190.0   \n",
       "4  0.667500  0.083824  0.14500   949.0  534.0  114.0  116.0  13224.0   \n",
       "\n",
       "   obj_img_ratio  \n",
       "0       0.001319  \n",
       "1       0.001658  \n",
       "2       0.002985  \n",
       "3       0.002932  \n",
       "4       0.012154  \n",
       "\n",
       "[5 rows x 22 columns]"
      ]
     },
     "execution_count": 67,
     "metadata": {},
     "output_type": "execute_result"
    }
   ],
   "source": [
    "df.head()"
   ]
  },
  {
   "cell_type": "code",
   "execution_count": 68,
   "id": "d9158b54-6db6-4426-8b2e-16d012ca8458",
   "metadata": {},
   "outputs": [
    {
     "data": {
      "text/html": [
       "<div>\n",
       "<style scoped>\n",
       "    .dataframe tbody tr th:only-of-type {\n",
       "        vertical-align: middle;\n",
       "    }\n",
       "\n",
       "    .dataframe tbody tr th {\n",
       "        vertical-align: top;\n",
       "    }\n",
       "\n",
       "    .dataframe thead th {\n",
       "        text-align: right;\n",
       "    }\n",
       "</style>\n",
       "<table border=\"1\" class=\"dataframe\">\n",
       "  <thead>\n",
       "    <tr style=\"text-align: right;\">\n",
       "      <th></th>\n",
       "      <th>img_size</th>\n",
       "      <th>img_width</th>\n",
       "      <th>img_height</th>\n",
       "      <th>class_idx</th>\n",
       "      <th>im_r_mode</th>\n",
       "      <th>im_g_mode</th>\n",
       "      <th>im_b_mode</th>\n",
       "      <th>obj_r_mode</th>\n",
       "      <th>obj_g_mode</th>\n",
       "      <th>obj_b_mode</th>\n",
       "      <th>ncx</th>\n",
       "      <th>ncy</th>\n",
       "      <th>nbw</th>\n",
       "      <th>nbh</th>\n",
       "      <th>cx</th>\n",
       "      <th>cy</th>\n",
       "      <th>bw</th>\n",
       "      <th>bh</th>\n",
       "      <th>obj_px</th>\n",
       "      <th>obj_img_ratio</th>\n",
       "    </tr>\n",
       "    <tr>\n",
       "      <th>class_name</th>\n",
       "      <th></th>\n",
       "      <th></th>\n",
       "      <th></th>\n",
       "      <th></th>\n",
       "      <th></th>\n",
       "      <th></th>\n",
       "      <th></th>\n",
       "      <th></th>\n",
       "      <th></th>\n",
       "      <th></th>\n",
       "      <th></th>\n",
       "      <th></th>\n",
       "      <th></th>\n",
       "      <th></th>\n",
       "      <th></th>\n",
       "      <th></th>\n",
       "      <th></th>\n",
       "      <th></th>\n",
       "      <th></th>\n",
       "      <th></th>\n",
       "    </tr>\n",
       "  </thead>\n",
       "  <tbody>\n",
       "    <tr>\n",
       "      <th>danger</th>\n",
       "      <td>1088000.0</td>\n",
       "      <td>1360.0</td>\n",
       "      <td>800.0</td>\n",
       "      <td>1.0</td>\n",
       "      <td>237.219178</td>\n",
       "      <td>248.543379</td>\n",
       "      <td>252.744292</td>\n",
       "      <td>110.150685</td>\n",
       "      <td>93.214612</td>\n",
       "      <td>96.520548</td>\n",
       "      <td>0.590928</td>\n",
       "      <td>0.547220</td>\n",
       "      <td>0.038638</td>\n",
       "      <td>0.060171</td>\n",
       "      <td>803.662100</td>\n",
       "      <td>437.776256</td>\n",
       "      <td>52.547945</td>\n",
       "      <td>48.136986</td>\n",
       "      <td>3056.022831</td>\n",
       "      <td>0.002809</td>\n",
       "    </tr>\n",
       "    <tr>\n",
       "      <th>mandatory</th>\n",
       "      <td>1088000.0</td>\n",
       "      <td>1360.0</td>\n",
       "      <td>800.0</td>\n",
       "      <td>2.0</td>\n",
       "      <td>249.797546</td>\n",
       "      <td>255.000000</td>\n",
       "      <td>255.000000</td>\n",
       "      <td>83.865031</td>\n",
       "      <td>96.926380</td>\n",
       "      <td>148.331288</td>\n",
       "      <td>0.458282</td>\n",
       "      <td>0.606162</td>\n",
       "      <td>0.029267</td>\n",
       "      <td>0.051388</td>\n",
       "      <td>623.263804</td>\n",
       "      <td>484.929448</td>\n",
       "      <td>39.803681</td>\n",
       "      <td>41.110429</td>\n",
       "      <td>2069.803681</td>\n",
       "      <td>0.001902</td>\n",
       "    </tr>\n",
       "    <tr>\n",
       "      <th>other</th>\n",
       "      <td>1088000.0</td>\n",
       "      <td>1360.0</td>\n",
       "      <td>800.0</td>\n",
       "      <td>3.0</td>\n",
       "      <td>243.748175</td>\n",
       "      <td>255.000000</td>\n",
       "      <td>255.000000</td>\n",
       "      <td>132.941606</td>\n",
       "      <td>114.737226</td>\n",
       "      <td>119.083942</td>\n",
       "      <td>0.590621</td>\n",
       "      <td>0.529019</td>\n",
       "      <td>0.034865</td>\n",
       "      <td>0.058139</td>\n",
       "      <td>803.244526</td>\n",
       "      <td>423.215328</td>\n",
       "      <td>47.416058</td>\n",
       "      <td>46.510949</td>\n",
       "      <td>2785.153285</td>\n",
       "      <td>0.002560</td>\n",
       "    </tr>\n",
       "    <tr>\n",
       "      <th>prohibitory</th>\n",
       "      <td>1088000.0</td>\n",
       "      <td>1360.0</td>\n",
       "      <td>800.0</td>\n",
       "      <td>0.0</td>\n",
       "      <td>231.175943</td>\n",
       "      <td>247.041293</td>\n",
       "      <td>254.113106</td>\n",
       "      <td>102.001795</td>\n",
       "      <td>78.692998</td>\n",
       "      <td>88.269300</td>\n",
       "      <td>0.569465</td>\n",
       "      <td>0.575879</td>\n",
       "      <td>0.028907</td>\n",
       "      <td>0.049383</td>\n",
       "      <td>774.472172</td>\n",
       "      <td>460.702873</td>\n",
       "      <td>39.314183</td>\n",
       "      <td>39.506284</td>\n",
       "      <td>1879.357271</td>\n",
       "      <td>0.001727</td>\n",
       "    </tr>\n",
       "  </tbody>\n",
       "</table>\n",
       "</div>"
      ],
      "text/plain": [
       "              img_size  img_width  img_height  class_idx   im_r_mode  \\\n",
       "class_name                                                             \n",
       "danger       1088000.0     1360.0       800.0        1.0  237.219178   \n",
       "mandatory    1088000.0     1360.0       800.0        2.0  249.797546   \n",
       "other        1088000.0     1360.0       800.0        3.0  243.748175   \n",
       "prohibitory  1088000.0     1360.0       800.0        0.0  231.175943   \n",
       "\n",
       "              im_g_mode   im_b_mode  obj_r_mode  obj_g_mode  obj_b_mode  \\\n",
       "class_name                                                                \n",
       "danger       248.543379  252.744292  110.150685   93.214612   96.520548   \n",
       "mandatory    255.000000  255.000000   83.865031   96.926380  148.331288   \n",
       "other        255.000000  255.000000  132.941606  114.737226  119.083942   \n",
       "prohibitory  247.041293  254.113106  102.001795   78.692998   88.269300   \n",
       "\n",
       "                  ncx       ncy       nbw       nbh          cx          cy  \\\n",
       "class_name                                                                    \n",
       "danger       0.590928  0.547220  0.038638  0.060171  803.662100  437.776256   \n",
       "mandatory    0.458282  0.606162  0.029267  0.051388  623.263804  484.929448   \n",
       "other        0.590621  0.529019  0.034865  0.058139  803.244526  423.215328   \n",
       "prohibitory  0.569465  0.575879  0.028907  0.049383  774.472172  460.702873   \n",
       "\n",
       "                    bw         bh       obj_px  obj_img_ratio  \n",
       "class_name                                                     \n",
       "danger       52.547945  48.136986  3056.022831       0.002809  \n",
       "mandatory    39.803681  41.110429  2069.803681       0.001902  \n",
       "other        47.416058  46.510949  2785.153285       0.002560  \n",
       "prohibitory  39.314183  39.506284  1879.357271       0.001727  "
      ]
     },
     "execution_count": 68,
     "metadata": {},
     "output_type": "execute_result"
    }
   ],
   "source": [
    "class_grp = df.groupby(['class_name'])\n",
    "class_grp.mean()"
   ]
  },
  {
   "cell_type": "code",
   "execution_count": 74,
   "id": "137d0f49-53f6-4adc-9c50-0ed3e445663b",
   "metadata": {},
   "outputs": [
    {
     "data": {
      "text/plain": [
       "img_path         ../dataset/00897.txt\n",
       "img_size                      1088000\n",
       "img_width                        1360\n",
       "img_height                        800\n",
       "class_name                      other\n",
       "class_idx                           3\n",
       "im_r_mode                         255\n",
       "im_g_mode                         255\n",
       "im_b_mode                         255\n",
       "obj_r_mode                         26\n",
       "obj_g_mode                         26\n",
       "obj_b_mode                         31\n",
       "ncx                               0.6\n",
       "ncy                            0.6725\n",
       "nbw                          0.017647\n",
       "nbh                              0.03\n",
       "cx                              816.0\n",
       "cy                              538.0\n",
       "bw                               24.0\n",
       "bh                               24.0\n",
       "obj_px                          576.0\n",
       "obj_img_ratio                0.000529\n",
       "Name: 1209, dtype: object"
      ]
     },
     "execution_count": 74,
     "metadata": {},
     "output_type": "execute_result"
    }
   ],
   "source": [
    "df.iloc[1209]"
   ]
  },
  {
   "cell_type": "code",
   "execution_count": null,
   "id": "1528b586-cb49-4bd7-a3a8-f39b1ac7e79b",
   "metadata": {},
   "outputs": [],
   "source": []
  },
  {
   "cell_type": "code",
   "execution_count": null,
   "id": "c7f6bb42-5144-4334-a13f-e0e098d9a616",
   "metadata": {},
   "outputs": [],
   "source": []
  },
  {
   "cell_type": "code",
   "execution_count": null,
   "id": "8370b41d-4a2f-4225-954c-e01554ce8f5f",
   "metadata": {},
   "outputs": [],
   "source": []
  },
  {
   "cell_type": "code",
   "execution_count": null,
   "id": "3349c282-bf68-415e-b948-15f61b235432",
   "metadata": {},
   "outputs": [],
   "source": []
  },
  {
   "cell_type": "code",
   "execution_count": null,
   "id": "43dea430-7f0d-418c-8e9e-4433dbc120a2",
   "metadata": {},
   "outputs": [],
   "source": []
  },
  {
   "cell_type": "code",
   "execution_count": null,
   "id": "5dee1c58-357f-43b8-bfd8-bf728de8fdba",
   "metadata": {},
   "outputs": [],
   "source": []
  },
  {
   "cell_type": "markdown",
   "id": "dbbbf8a9-d309-482c-88e3-96087341ed64",
   "metadata": {},
   "source": [
    "# TODO BLOCK"
   ]
  },
  {
   "cell_type": "markdown",
   "id": "a72d4960-63c9-4922-9cf8-72f71c3d6b31",
   "metadata": {},
   "source": [
    "Object-Wise Pixel-Level Info (Modes)"
   ]
  },
  {
   "cell_type": "code",
   "execution_count": 75,
   "id": "9efb7f88-d554-44ce-9bc3-9b494be3dc4a",
   "metadata": {},
   "outputs": [
    {
     "data": {
      "text/plain": [
       "<matplotlib.image.AxesImage at 0x7f7fc6d4fd50>"
      ]
     },
     "execution_count": 75,
     "metadata": {},
     "output_type": "execute_result"
    },
    {
     "data": {
      "image/png": "[encoded data removed]",
      "text/plain": [
       "<Figure size 432x288 with 1 Axes>"
      ]
     },
     "metadata": {
      "needs_background": "light"
     },
     "output_type": "display_data"
    }
   ],
   "source": [
    "pil_img = Image.open('../dataset/00897.jpg')\n",
    "plt.imshow(pil_img)"
   ]
  },
  {
   "cell_type": "code",
   "execution_count": 76,
   "id": "d75cc10b-87ac-43ca-aeae-60469fa93c4b",
   "metadata": {},
   "outputs": [
    {
     "data": {
      "text/plain": [
       "cx    816.0\n",
       "cy    538.0\n",
       "bw     24.0\n",
       "bh     24.0\n",
       "Name: 1209, dtype: float64"
      ]
     },
     "execution_count": 76,
     "metadata": {},
     "output_type": "execute_result"
    }
   ],
   "source": [
    "dfxi = df[df['img_path'] == '../dataset/00897.txt']\n",
    "dfxi = dfxi[['cx', 'cy', 'bw', 'bh']].iloc[0]\n",
    "dfxi"
   ]
  },
  {
   "cell_type": "code",
   "execution_count": 77,
   "id": "45597aa6-131f-447a-abde-aaa145acf804",
   "metadata": {},
   "outputs": [
    {
     "data": {
      "text/plain": [
       "(804, 526)"
      ]
     },
     "execution_count": 77,
     "metadata": {},
     "output_type": "execute_result"
    }
   ],
   "source": [
    "left = int(dfxi.cx - (dfxi.bw / 2))\n",
    "top = int(dfxi.cy - (dfxi.bh / 2))\n",
    "right = int(dfxi.cx + (dfxi.bw / 2))\n",
    "bottom = int(dfxi.cy + (dfxi.bh / 2))\n",
    "left, top"
   ]
  },
  {
   "cell_type": "code",
   "execution_count": 78,
   "id": "8aabca04-0883-4323-a46b-8c3f9b93df7f",
   "metadata": {},
   "outputs": [
    {
     "data": {
      "text/plain": [
       "<matplotlib.image.AxesImage at 0x7f7fc8701d10>"
      ]
     },
     "execution_count": 78,
     "metadata": {},
     "output_type": "execute_result"
    },
    {
     "data": {
      "image/png": "[encoded data removed]",
      "text/plain": [
       "<Figure size 432x288 with 1 Axes>"
      ]
     },
     "metadata": {
      "needs_background": "light"
     },
     "output_type": "display_data"
    }
   ],
   "source": [
    "crop_img = pil_img.crop((left, top, right, bottom))\n",
    "plt.imshow(crop_img)"
   ]
  },
  {
   "cell_type": "code",
   "execution_count": 79,
   "id": "dcb37b17-26b2-4bca-8821-b5960b552caa",
   "metadata": {},
   "outputs": [
    {
     "data": {
      "text/plain": [
       "(24, 24, 3)"
      ]
     },
     "execution_count": 79,
     "metadata": {},
     "output_type": "execute_result"
    }
   ],
   "source": [
    "cropped_np_img = np.asarray(crop_img)\n",
    "cropped_np_img.shape"
   ]
  },
  {
   "cell_type": "code",
   "execution_count": 82,
   "id": "7467b561-27c9-4885-b523-f6ec28a3ae16",
   "metadata": {},
   "outputs": [
    {
     "data": {
      "text/plain": [
       "26"
      ]
     },
     "execution_count": 82,
     "metadata": {},
     "output_type": "execute_result"
    }
   ],
   "source": [
    "cal_mode(cropped_np_img[..., 0].flatten())"
   ]
  },
  {
   "cell_type": "code",
   "execution_count": null,
   "id": "e1df2dd3-f2dc-43fb-b7f8-2417b6903c51",
   "metadata": {},
   "outputs": [],
   "source": []
  },
  {
   "cell_type": "markdown",
   "id": "7617bb50-f2ee-4f2a-bcd0-3cc7aefa90b5",
   "metadata": {},
   "source": [
    "## Practice Block"
   ]
  },
  {
   "cell_type": "code",
   "execution_count": null,
   "id": "dded07e3-a151-404d-bc1b-4ef4dcb63e80",
   "metadata": {},
   "outputs": [],
   "source": [
    "pil_img = Image.open('')\n",
    "np_img = np.asarray(pil_img)\n",
    "np_img.shape"
   ]
  },
  {
   "cell_type": "code",
   "execution_count": null,
   "id": "ac3657ea-e1dd-4bcd-b287-33de08be610a",
   "metadata": {},
   "outputs": [],
   "source": [
    "raf_img = np_img[..., 0]\n",
    "gaf_img = np_img[..., 1]\n",
    "baf_img = np_img[..., 2]"
   ]
  },
  {
   "cell_type": "code",
   "execution_count": null,
   "id": "656c2580-ed73-4b9e-8257-420625c4aa60",
   "metadata": {},
   "outputs": [],
   "source": [
    "\n",
    "idx, cnts"
   ]
  },
  {
   "cell_type": "code",
   "execution_count": null,
   "id": "e395b389-466d-45db-ac06-ebe3c67cb48e",
   "metadata": {},
   "outputs": [],
   "source": [
    "np.argmax(cnts)"
   ]
  },
  {
   "cell_type": "code",
   "execution_count": null,
   "id": "f65cfd2c-d84f-4ee2-a265-fca0a93b422a",
   "metadata": {},
   "outputs": [],
   "source": [
    "idx[175]"
   ]
  },
  {
   "cell_type": "code",
   "execution_count": null,
   "id": "6724c069-bc63-425c-9de0-54271bbe844e",
   "metadata": {},
   "outputs": [],
   "source": []
  }
 ],
 "metadata": {
  "kernelspec": {
   "display_name": "Python 3 (ipykernel)",
   "language": "python",
   "name": "python3"
  },
  "language_info": {
   "codemirror_mode": {
    "name": "ipython",
    "version": 3
   },
   "file_extension": ".py",
   "mimetype": "text/x-python",
   "name": "python",
   "nbconvert_exporter": "python",
   "pygments_lexer": "ipython3",
   "version": "3.7.11"
  }
 },
 "nbformat": 4,
 "nbformat_minor": 5
}
