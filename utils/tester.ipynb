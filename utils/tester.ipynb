{
 "cells": [
  {
   "cell_type": "code",
   "execution_count": null,
   "id": "1f4ca906-4091-419a-9eb4-1fb356d2ec8c",
   "metadata": {},
   "outputs": [],
   "source": [
    "import pandas as pd\n",
    "import matplotlib.pyplot as plt\n",
    "from PIL import Image\n",
    "import os\n",
    "import numpy as np\n",
    "from tqdm import tqdm"
   ]
  },
  {
   "cell_type": "code",
   "execution_count": null,
   "id": "495a7f2d-09f9-4372-aa82-996ccab5affe",
   "metadata": {},
   "outputs": [],
   "source": [
    "home_path = ''\n",
    "img_size = 544"
   ]
  },
  {
   "cell_type": "code",
   "execution_count": null,
   "id": "b68d6495-eecc-48be-b3ec-c474e4e24d5f",
   "metadata": {},
   "outputs": [],
   "source": [
    "files_list = os.listdir(home_path)\n",
    "files_list.sort()\n",
    "print(f'Total Image Files: {int(len(files_list) / 2)}')"
   ]
  },
  {
   "cell_type": "code",
   "execution_count": null,
   "id": "2ff4d3b6-d19d-49f7-9fb8-beabb2609e12",
   "metadata": {},
   "outputs": [],
   "source": [
    "def cal_mode(X):\n",
    "    idx, cnts = np.unique(X, return_counts=True)\n",
    "    nid = np.argmax(cnts)\n",
    "    return idx[nid]\n",
    "\n",
    "def get_img_path(f_name):\n",
    "    fn_list = f_name.split('.')\n",
    "    img_name, ext = '.'.join(fn_list[:-1]), fn_list[-1]\n",
    "    for extension in ['.jpg', '.png']:\n",
    "        img_path = os.path.join(home_path, img_name+extension)\n",
    "        if os.path.isfile(img_path):\n",
    "            return img_path\n",
    "        \n",
    "        \n",
    "def get_img_vals(img_path):\n",
    "    pil_img = Image.open(img_path)\n",
    "    np_img = np.asarray(pil_img)\n",
    "    \n",
    "    raf = np_img[..., 0]\n",
    "    gaf = np_img[..., 1]\n",
    "    baf = np_img[..., 2]\n",
    "    \n",
    "    r_mode = cal_mode(raf)\n",
    "    g_mode = cal_mode(gaf)\n",
    "    b_mode = cal_mode(baf)\n",
    "    \n",
    "    #print(r_mode, g_mode, b_mode)\n",
    "    return (r_mode, g_mode, b_mode)\n",
    "    \n",
    "    # plt.imshow(pil_img)\n",
    "    # plt.show()"
   ]
  },
  {
   "cell_type": "code",
   "execution_count": null,
   "id": "83ef289e-0c97-4cfc-b9cb-b945df4fc9a0",
   "metadata": {},
   "outputs": [],
   "source": [
    "total_list = []\n",
    "\n",
    "class_file = os.path.join(home_path, 'classes.txt')\n",
    "with open(class_file) as fc:\n",
    "    class_list = fc.readlines()\n",
    "\n",
    "for file_name in tqdm(files_list):\n",
    "    if file_name.endswith('.txt') and not file_name.startswith('class'):\n",
    "        file_path = os.path.join(home_path, file_name)\n",
    "        \n",
    "        im_path = get_img_path(file_name)\n",
    "        im_r_mode, im_g_mode, im_b_mode = get_img_vals(im_path)\n",
    "        # print(im_r_mode, im_g_mode, im_b_mode)\n",
    "        \n",
    "        with open(file_path) as fp:\n",
    "            # print(file_name)\n",
    "            file_data = fp.readlines()\n",
    "            for data_list in file_data:\n",
    "                data_item = data_list.split(' ')\n",
    "                try:\n",
    "                    total_list.append([\n",
    "                        file_path,\n",
    "                        \n",
    "                        img_size * img_size,\n",
    "                        img_size,\n",
    "                        img_size,\n",
    "                        \n",
    "                        class_list[int(data_item[0])].replace('\\n', ''),\n",
    "                        int(data_item[0]),\n",
    "                        \n",
    "                        int(im_r_mode),\n",
    "                        int(im_g_mode),\n",
    "                        int(im_b_mode),\n",
    "                        \n",
    "                        float(data_item[1]),\n",
    "                        float(data_item[2]),\n",
    "                        float(data_item[3]),\n",
    "                        float(data_item[4])\n",
    "                    ])\n",
    "                except IndexError:\n",
    "                    print('\\nClass names must match with # of objects')\n",
    "                    print('Please check your object labels or total of class names.\\n')\n",
    "                    exit(0)\n",
    "\n",
    "df = pd.DataFrame(data=total_list,\n",
    "                  columns=['img_path',\n",
    "                           \n",
    "                           'img_size',\n",
    "                           'img_width',\n",
    "                           'img_height',\n",
    "                           \n",
    "                           'class_name',\n",
    "                           'class_idx',\n",
    "                           \n",
    "                           'r_mode',\n",
    "                           'g_mode',\n",
    "                           'b_mode',\n",
    "                           \n",
    "                           'ncx',\n",
    "                           'ncy',\n",
    "                           'nbw',\n",
    "                           'nbh'\n",
    "                          ])\n",
    "\n",
    "df['cx'], df['cy'], df['bw'], df[\n",
    "    'bh'] = df.ncx * img_size, df.ncy * img_size, df.nbw * img_size, df.nbh * img_size\n",
    "df['obj_px'] = df['bw'] * df['bh']\n",
    "df['obj_img_ratio'] = df['obj_px'] / df['img_size']s"
   ]
  },
  {
   "cell_type": "code",
   "execution_count": null,
   "id": "10cf1dfa-15d8-448e-bab3-dc79236f47a5",
   "metadata": {},
   "outputs": [],
   "source": [
    "df.head()"
   ]
  },
  {
   "cell_type": "code",
   "execution_count": null,
   "id": "d9158b54-6db6-4426-8b2e-16d012ca8458",
   "metadata": {},
   "outputs": [],
   "source": [
    "class_grp = df.groupby(['class_name'])\n",
    "class_grp.mean()"
   ]
  },
  {
   "cell_type": "code",
   "execution_count": null,
   "id": "137d0f49-53f6-4adc-9c50-0ed3e445663b",
   "metadata": {},
   "outputs": [],
   "source": [
    "class_grp.count()['img_path']"
   ]
  },
  {
   "cell_type": "code",
   "execution_count": null,
   "id": "1528b586-cb49-4bd7-a3a8-f39b1ac7e79b",
   "metadata": {},
   "outputs": [],
   "source": []
  },
  {
   "cell_type": "code",
   "execution_count": null,
   "id": "c7f6bb42-5144-4334-a13f-e0e098d9a616",
   "metadata": {},
   "outputs": [],
   "source": []
  },
  {
   "cell_type": "code",
   "execution_count": null,
   "id": "8370b41d-4a2f-4225-954c-e01554ce8f5f",
   "metadata": {},
   "outputs": [],
   "source": []
  },
  {
   "cell_type": "code",
   "execution_count": null,
   "id": "3349c282-bf68-415e-b948-15f61b235432",
   "metadata": {},
   "outputs": [],
   "source": []
  },
  {
   "cell_type": "code",
   "execution_count": null,
   "id": "43dea430-7f0d-418c-8e9e-4433dbc120a2",
   "metadata": {},
   "outputs": [],
   "source": []
  },
  {
   "cell_type": "code",
   "execution_count": null,
   "id": "5dee1c58-357f-43b8-bfd8-bf728de8fdba",
   "metadata": {},
   "outputs": [],
   "source": []
  },
  {
   "cell_type": "markdown",
   "id": "dbbbf8a9-d309-482c-88e3-96087341ed64",
   "metadata": {},
   "source": [
    "# TODO BLOCK"
   ]
  },
  {
   "cell_type": "markdown",
   "id": "a72d4960-63c9-4922-9cf8-72f71c3d6b31",
   "metadata": {},
   "source": [
    "Object-Wise Pixel-Level Info (Modes)"
   ]
  },
  {
   "cell_type": "code",
   "execution_count": null,
   "id": "9efb7f88-d554-44ce-9bc3-9b494be3dc4a",
   "metadata": {},
   "outputs": [],
   "source": []
  },
  {
   "cell_type": "code",
   "execution_count": null,
   "id": "d75cc10b-87ac-43ca-aeae-60469fa93c4b",
   "metadata": {},
   "outputs": [],
   "source": []
  },
  {
   "cell_type": "code",
   "execution_count": null,
   "id": "45597aa6-131f-447a-abde-aaa145acf804",
   "metadata": {},
   "outputs": [],
   "source": []
  },
  {
   "cell_type": "code",
   "execution_count": null,
   "id": "e1df2dd3-f2dc-43fb-b7f8-2417b6903c51",
   "metadata": {},
   "outputs": [],
   "source": []
  },
  {
   "cell_type": "markdown",
   "id": "7617bb50-f2ee-4f2a-bcd0-3cc7aefa90b5",
   "metadata": {},
   "source": [
    "## Practice Block"
   ]
  },
  {
   "cell_type": "code",
   "execution_count": null,
   "id": "dded07e3-a151-404d-bc1b-4ef4dcb63e80",
   "metadata": {},
   "outputs": [],
   "source": [
    "pil_img = Image.open('')\n",
    "np_img = np.asarray(pil_img)\n",
    "np_img.shape"
   ]
  },
  {
   "cell_type": "code",
   "execution_count": null,
   "id": "ac3657ea-e1dd-4bcd-b287-33de08be610a",
   "metadata": {},
   "outputs": [],
   "source": [
    "raf_img = np_img[..., 0]\n",
    "gaf_img = np_img[..., 1]\n",
    "baf_img = np_img[..., 2]"
   ]
  },
  {
   "cell_type": "code",
   "execution_count": null,
   "id": "656c2580-ed73-4b9e-8257-420625c4aa60",
   "metadata": {},
   "outputs": [],
   "source": [
    "\n",
    "idx, cnts"
   ]
  },
  {
   "cell_type": "code",
   "execution_count": null,
   "id": "e395b389-466d-45db-ac06-ebe3c67cb48e",
   "metadata": {},
   "outputs": [],
   "source": [
    "np.argmax(cnts)"
   ]
  },
  {
   "cell_type": "code",
   "execution_count": null,
   "id": "f65cfd2c-d84f-4ee2-a265-fca0a93b422a",
   "metadata": {},
   "outputs": [],
   "source": [
    "idx[175]"
   ]
  },
  {
   "cell_type": "code",
   "execution_count": null,
   "id": "6724c069-bc63-425c-9de0-54271bbe844e",
   "metadata": {},
   "outputs": [],
   "source": []
  }
 ],
 "metadata": {
  "kernelspec": {
   "display_name": "Python 3 (ipykernel)",
   "language": "python",
   "name": "python3"
  },
  "language_info": {
   "codemirror_mode": {
    "name": "ipython",
    "version": 3
   },
   "file_extension": ".py",
   "mimetype": "text/x-python",
   "name": "python",
   "nbconvert_exporter": "python",
   "pygments_lexer": "ipython3",
   "version": "3.8.10"
  }
 },
 "nbformat": 4,
 "nbformat_minor": 5
}
